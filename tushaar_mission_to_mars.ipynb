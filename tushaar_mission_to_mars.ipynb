{
 "cells": [
  {
   "cell_type": "code",
   "execution_count": 1,
   "metadata": {},
   "outputs": [],
   "source": [
    "# Import all the dependencies\n",
    "from splinter import Browser\n",
    "from splinter.exceptions import ElementDoesNotExist\n",
    "from bs4 import BeautifulSoup\n",
    "import requests # This is used to read live websites...\n",
    "import pandas as pd\n",
    "import json\n",
    "import pprint"
   ]
  },
  {
   "cell_type": "markdown",
   "metadata": {},
   "source": [
    "### Note: This code is being run on a Mac Machine"
   ]
  },
  {
   "cell_type": "code",
   "execution_count": 2,
   "metadata": {},
   "outputs": [
    {
     "name": "stdout",
     "output_type": "stream",
     "text": [
      "/usr/local/bin/chromedriver\r\n"
     ]
    }
   ],
   "source": [
    "!which chromedriver #Check for chromedriver installed\n",
    "# Expected output should be /usr/local/bin/chromedriver"
   ]
  },
  {
   "cell_type": "code",
   "execution_count": 3,
   "metadata": {},
   "outputs": [],
   "source": [
    "# Set the browser path for chrome driver to initialize browser for various steps in our code\n",
    "executable_path = {'executable_path': '/usr/local/bin/chromedriver'}\n",
    "browser = Browser('chrome', **executable_path, headless=False) #browser variable set, this will be used to invoke browser in the future"
   ]
  },
  {
   "cell_type": "markdown",
   "metadata": {},
   "source": [
    "# NASA Mars News"
   ]
  },
  {
   "cell_type": "markdown",
   "metadata": {},
   "source": [
    "Scrape the NASA Mars News Site and collect the latest News Title and Paragragh Text. Assign the text to variables that you can reference later."
   ]
  },
  {
   "cell_type": "code",
   "execution_count": 4,
   "metadata": {},
   "outputs": [],
   "source": [
    "# URL of the page to be scraped\n",
    "Mars_URL = 'https://mars.nasa.gov/news/'\n",
    "# Initiate the splinter browser function to visit the NASA URL\n",
    "browser.visit(Mars_URL)\n",
    "# Store the first title in the nasa_mars_news_title variable\n",
    "nasa_mars_news_title = browser.find_by_css('.content_title').first.text\n",
    "# Store the first headline in the nasa_mars_news_paragraph variable\n",
    "nasa_mars_news_paragraph  = browser.find_by_css('.article_teaser_body').first.text"
   ]
  },
  {
   "cell_type": "code",
   "execution_count": 5,
   "metadata": {},
   "outputs": [
    {
     "name": "stdout",
     "output_type": "stream",
     "text": [
      "-------------\n",
      "Mars Helicopter to Fly on NASA’s Next Red Planet Rover Mission\n",
      "NASA is adding a Mars helicopter to the agency’s next mission to the Red Planet, Mars 2020.\n",
      "-------------\n"
     ]
    }
   ],
   "source": [
    "# Print the news title and the news paragraph text\n",
    "print('-------------')\n",
    "print(nasa_mars_news_title)\n",
    "print(nasa_mars_news_paragraph)\n",
    "print('-------------')"
   ]
  },
  {
   "cell_type": "markdown",
   "metadata": {},
   "source": [
    "# JPL Mars Space Images - Featured Image"
   ]
  },
  {
   "cell_type": "markdown",
   "metadata": {},
   "source": [
    "Visit the url for JPL's Featured Space Image here.\n",
    "\n",
    "Use splinter to navigate the site and find the image url for the current Featured Mars Image and assign the url string to a variable called featured_image_url.\n",
    "\n",
    "Make sure to find the image url to the full size .jpg image.\n",
    "\n",
    "Make sure to save a complete url string for this image."
   ]
  },
  {
   "cell_type": "code",
   "execution_count": 6,
   "metadata": {},
   "outputs": [
    {
     "name": "stdout",
     "output_type": "stream",
     "text": [
      "https://www.jpl.nasa.gov/spaceimages/images/mediumsize/PIA17462_ip.jpg\n"
     ]
    }
   ],
   "source": [
    "# URL of the page to be scraped\n",
    "JPL_Image_URL = \"https://www.jpl.nasa.gov/spaceimages/?search=&category=Mars\"\n",
    "\n",
    "# Initiate the splinter browser function to visit the JPL URL\n",
    "browser.visit(JPL_Image_URL)\n",
    "jpl_html = browser.html # Set a variable for rendering URL's html reponse\n",
    "jpl_soup = BeautifulSoup(jpl_html, 'html.parser') # set beautiful soup variable for parsing our HTML\n",
    "\n",
    "# The below step is important. When we inspect the JPL_Image_URL in chrome, you will find that the featured image is\n",
    "# in the fotter section. We will store this in a variable defined below.\n",
    "jpl_results = jpl_soup.find('footer') \n",
    "\n",
    "# We see that image URL is embedded in 'data-fancybox-href' in the <a> </a> tags\n",
    "Image_URL = jpl_results.find('a')['data-fancybox-href']\n",
    "\n",
    "# When we print Image_URL we find that it is a partial URL and needs to be appended by the leading URL which we do below\n",
    "Featured_Image_URL = \"https://www.jpl.nasa.gov\" + Image_URL\n",
    "print (Featured_Image_URL) # Printing the URL"
   ]
  },
  {
   "cell_type": "markdown",
   "metadata": {},
   "source": [
    "# Mars Weather"
   ]
  },
  {
   "cell_type": "markdown",
   "metadata": {},
   "source": [
    "Visit the Mars Weather twitter account here and scrape the latest Mars weather tweet from the page. Save the tweet text for the weather report as a variable called mars_weather."
   ]
  },
  {
   "cell_type": "code",
   "execution_count": 7,
   "metadata": {},
   "outputs": [
    {
     "name": "stdout",
     "output_type": "stream",
     "text": [
      "Sol 2050 (May 13, 2018), Sunny, high 1C/33F, low -71C/-95F, pressure at 7.37 hPa, daylight 05:21-17:20\n"
     ]
    }
   ],
   "source": [
    "# URL of the page to be scraped\n",
    "Mars_Twitter_URL = 'https://twitter.com/marswxreport?lang=en'\n",
    "# Initiate the splinter browser function to visit the Mars Twitter URL\n",
    "browser.visit(Mars_Twitter_URL)\n",
    "\n",
    "# Creating a simple for loop to scrape the first tweet\n",
    "for text in browser.find_by_css('.tweet-text'): # Searching for all the tweets\n",
    "    if text.text.partition(' ')[0] == 'Sol': # Selecting the 'first' tweet in the web page\n",
    "        mars_weather = text.text # storing the tweet in a variable\n",
    "        break\n",
    "print(mars_weather) # printing the text format of the tweet"
   ]
  },
  {
   "cell_type": "markdown",
   "metadata": {},
   "source": [
    "# Mars Facts"
   ]
  },
  {
   "cell_type": "markdown",
   "metadata": {},
   "source": [
    "Visit the Mars Facts webpage here and use Pandas to scrape the table containing facts about the planet including Diameter, Mass, etc."
   ]
  },
  {
   "cell_type": "code",
   "execution_count": 8,
   "metadata": {},
   "outputs": [
    {
     "data": {
      "text/html": [
       "<div>\n",
       "<style scoped>\n",
       "    .dataframe tbody tr th:only-of-type {\n",
       "        vertical-align: middle;\n",
       "    }\n",
       "\n",
       "    .dataframe tbody tr th {\n",
       "        vertical-align: top;\n",
       "    }\n",
       "\n",
       "    .dataframe thead th {\n",
       "        text-align: right;\n",
       "    }\n",
       "</style>\n",
       "<table border=\"1\" class=\"dataframe\">\n",
       "  <thead>\n",
       "    <tr style=\"text-align: right;\">\n",
       "      <th></th>\n",
       "      <th>Values</th>\n",
       "    </tr>\n",
       "    <tr>\n",
       "      <th>Measurements</th>\n",
       "      <th></th>\n",
       "    </tr>\n",
       "  </thead>\n",
       "  <tbody>\n",
       "    <tr>\n",
       "      <th>Equatorial Diameter:</th>\n",
       "      <td>6,792 km</td>\n",
       "    </tr>\n",
       "    <tr>\n",
       "      <th>Polar Diameter:</th>\n",
       "      <td>6,752 km</td>\n",
       "    </tr>\n",
       "    <tr>\n",
       "      <th>Mass:</th>\n",
       "      <td>6.42 x 10^23 kg (10.7% Earth)</td>\n",
       "    </tr>\n",
       "    <tr>\n",
       "      <th>Moons:</th>\n",
       "      <td>2 (Phobos &amp; Deimos)</td>\n",
       "    </tr>\n",
       "    <tr>\n",
       "      <th>Orbit Distance:</th>\n",
       "      <td>227,943,824 km (1.52 AU)</td>\n",
       "    </tr>\n",
       "    <tr>\n",
       "      <th>Orbit Period:</th>\n",
       "      <td>687 days (1.9 years)</td>\n",
       "    </tr>\n",
       "    <tr>\n",
       "      <th>Surface Temperature:</th>\n",
       "      <td>-153 to 20 °C</td>\n",
       "    </tr>\n",
       "    <tr>\n",
       "      <th>First Record:</th>\n",
       "      <td>2nd millennium BC</td>\n",
       "    </tr>\n",
       "    <tr>\n",
       "      <th>Recorded By:</th>\n",
       "      <td>Egyptian astronomers</td>\n",
       "    </tr>\n",
       "  </tbody>\n",
       "</table>\n",
       "</div>"
      ],
      "text/plain": [
       "                                             Values\n",
       "Measurements                                       \n",
       "Equatorial Diameter:                       6,792 km\n",
       "Polar Diameter:                            6,752 km\n",
       "Mass:                 6.42 x 10^23 kg (10.7% Earth)\n",
       "Moons:                          2 (Phobos & Deimos)\n",
       "Orbit Distance:            227,943,824 km (1.52 AU)\n",
       "Orbit Period:                  687 days (1.9 years)\n",
       "Surface Temperature:                  -153 to 20 °C\n",
       "First Record:                     2nd millennium BC\n",
       "Recorded By:                   Egyptian astronomers"
      ]
     },
     "execution_count": 8,
     "metadata": {},
     "output_type": "execute_result"
    }
   ],
   "source": [
    "# URL of the page to be scraped\n",
    "Mars_Facts_URL = 'http://space-facts.com/mars/'\n",
    "# Creating Dataframe with the read HTML functionality\n",
    "mars_planet_profile_df =  pd.read_html (Mars_Facts_URL, attrs = {'id': 'tablepress-mars'})[0]\n",
    "# Renaming the columns of the dataframe \n",
    "mars_planet_profile_df.columns = ['Measurements', 'Values']\n",
    "mars_df = mars_planet_profile_df.set_index('Measurements') # Changing the index to Measurements\n",
    "# Displaying the dataframe\n",
    "mars_df"
   ]
  },
  {
   "cell_type": "markdown",
   "metadata": {},
   "source": [
    "### Use Pandas to convert the data to a HTML table string."
   ]
  },
  {
   "cell_type": "code",
   "execution_count": 9,
   "metadata": {},
   "outputs": [
    {
     "name": "stdout",
     "output_type": "stream",
     "text": [
      "('<table border=\"1\" class=\"dataframe\">\\n'\n",
      " '  <thead>\\n'\n",
      " '    <tr style=\"text-align: right;\">\\n'\n",
      " '      <th></th>\\n'\n",
      " '      <th>Values</th>\\n'\n",
      " '    </tr>\\n'\n",
      " '    <tr>\\n'\n",
      " '      <th>Measurements</th>\\n'\n",
      " '      <th></th>\\n'\n",
      " '    </tr>\\n'\n",
      " '  </thead>\\n'\n",
      " '  <tbody>\\n'\n",
      " '    <tr>\\n'\n",
      " '      <th>Equatorial Diameter:</th>\\n'\n",
      " '      <td>6,792 km</td>\\n'\n",
      " '    </tr>\\n'\n",
      " '    <tr>\\n'\n",
      " '      <th>Polar Diameter:</th>\\n'\n",
      " '      <td>6,752 km</td>\\n'\n",
      " '    </tr>\\n'\n",
      " '    <tr>\\n'\n",
      " '      <th>Mass:</th>\\n'\n",
      " '      <td>6.42 x 10^23 kg (10.7% Earth)</td>\\n'\n",
      " '    </tr>\\n'\n",
      " '    <tr>\\n'\n",
      " '      <th>Moons:</th>\\n'\n",
      " '      <td>2 (Phobos &amp; Deimos)</td>\\n'\n",
      " '    </tr>\\n'\n",
      " '    <tr>\\n'\n",
      " '      <th>Orbit Distance:</th>\\n'\n",
      " '      <td>227,943,824 km (1.52 AU)</td>\\n'\n",
      " '    </tr>\\n'\n",
      " '    <tr>\\n'\n",
      " '      <th>Orbit Period:</th>\\n'\n",
      " '      <td>687 days (1.9 years)</td>\\n'\n",
      " '    </tr>\\n'\n",
      " '    <tr>\\n'\n",
      " '      <th>Surface Temperature:</th>\\n'\n",
      " '      <td>-153 to 20 °C</td>\\n'\n",
      " '    </tr>\\n'\n",
      " '    <tr>\\n'\n",
      " '      <th>First Record:</th>\\n'\n",
      " '      <td>2nd millennium BC</td>\\n'\n",
      " '    </tr>\\n'\n",
      " '    <tr>\\n'\n",
      " '      <th>Recorded By:</th>\\n'\n",
      " '      <td>Egyptian astronomers</td>\\n'\n",
      " '    </tr>\\n'\n",
      " '  </tbody>\\n'\n",
      " '</table>')\n"
     ]
    }
   ],
   "source": [
    "# Converting our Dataframe to HTML table string using .to_html() feature\n",
    "mars_facts_HTML_table_string = mars_df.to_html()\n",
    "pprint.pprint(mars_facts_HTML_table_string) # printing the table string for verfications"
   ]
  },
  {
   "cell_type": "markdown",
   "metadata": {},
   "source": [
    "# Mars Hemispheres"
   ]
  },
  {
   "cell_type": "markdown",
   "metadata": {},
   "source": [
    "Visit the USGS Astrogeology site here to obtain high resolution images for each of Mar's hemispheres.\n",
    "\n",
    "You will need to click each of the links to the hemispheres in order to find the image url to the full resolution image.\n",
    "\n",
    "Save both the image url string for the full resolution hemipshere image, and the Hemisphere title containing the hemisphere name. Use a Python dictionary to store the data using the keys img_url and title.\n",
    "\n",
    "Append the dictionary with the image url string and the hemisphere title to a list. This list will contain one dictionary for each hemisphere."
   ]
  },
  {
   "cell_type": "code",
   "execution_count": 10,
   "metadata": {},
   "outputs": [],
   "source": [
    "# Store the URL in a variable\n",
    "Mars_Astro_URL = \"https://astrogeology.usgs.gov/search/results?q=hemisphere+enhanced&k1=target&v1=Mars\"\n",
    "\n",
    "#Initiate the splinter browser function to visit the Mars Astro URL\n",
    "browser.visit(Mars_Astro_URL)\n",
    "Astro_Response = requests.get(Mars_Astro_URL) # Storing the response variable, Retrieve page with the requests module\n",
    "\n",
    "#Create BeautifulSoup object; parse with 'HTML'\n",
    "Astro_Soup = BeautifulSoup(Astro_Response.text, 'html.parser') # Storing the beautiful soup variable for parsing our HTML\n",
    "\n",
    "# Retrieve the parent div tags (<a> </a>) for all articles\n",
    "Hemispheres_List = Astro_Soup.find_all('a', class_=\"itemLink product-item\") # find all the <a> </a> elements\n",
    "# print (Hemispheres_List) # print the list just for verifications\n",
    "# Commented the print logic out as it was just used for verifications..."
   ]
  },
  {
   "cell_type": "markdown",
   "metadata": {},
   "source": [
    "Save both the image url string for the full resolution hemipshere image, and the Hemisphere title containing the hemisphere name. Use a Python dictionary to store the data using the keys img_url and title.\n",
    "\n",
    "Append the dictionary with the image url string and the hemisphere title to a list. This list will contain one dictionary for each hemisphere."
   ]
  },
  {
   "cell_type": "code",
   "execution_count": 11,
   "metadata": {},
   "outputs": [
    {
     "name": "stdout",
     "output_type": "stream",
     "text": [
      "[{'Image_URL': 'http://astropedia.astrogeology.usgs.gov/download/Mars/Viking/cerberus_enhanced.tif/full.jpg',\n",
      "  'Title': 'Cerberus Hemisphere Enhanced'},\n",
      " {'Image_URL': 'http://astropedia.astrogeology.usgs.gov/download/Mars/Viking/schiaparelli_enhanced.tif/full.jpg',\n",
      "  'Title': 'Schiaparelli Hemisphere Enhanced'},\n",
      " {'Image_URL': 'http://astropedia.astrogeology.usgs.gov/download/Mars/Viking/syrtis_major_enhanced.tif/full.jpg',\n",
      "  'Title': 'Syrtis Major Hemisphere Enhanced'},\n",
      " {'Image_URL': 'http://astropedia.astrogeology.usgs.gov/download/Mars/Viking/valles_marineris_enhanced.tif/full.jpg',\n",
      "  'Title': 'Valles Marineris Hemisphere Enhanced'}]\n"
     ]
    }
   ],
   "source": [
    "# Initialize array to store all the results - this will be an array of dictionaries\n",
    "hemisphere_image_urls = []\n",
    "\n",
    "# Loop through results to retrieve article image URL and Title\n",
    "\n",
    "for image in Hemispheres_List: # start the for loop, Hemispheres_List was defined in the prior cell above\n",
    "    image_title = image.find('h3').text # Image titles are in <h3> </h3> tags, found via inspecting the page\n",
    "    image_link = \"https://astrogeology.usgs.gov/\" + image['href'] # appending the image link with leading URL and <href> tags\n",
    "    \n",
    "    # This function will request the links to be clicked to in order to find the image url to the full resolution image.\n",
    "    image_request = requests.get(image_link) \n",
    "    # Storing the beautiful soup variable for parsing our HTML as we go to a new page\n",
    "    soup = BeautifulSoup(image_request.text, 'html.parser')\n",
    "    # Storing image tag variable by finding div in class 'downloads' -> this is found by inspecting the image URL\n",
    "    image_tag = soup.find('div', class_='downloads')\n",
    "    # Storing image URL variable loacated in <a> href </a> portion -> this is found by inspecting the image URL\n",
    "    image_url = image_tag.find('a')['href']\n",
    "    # Appending all the information in our array of dictionaries, as asked for in the homework    \n",
    "    hemisphere_image_urls.append({\"Title\": image_title, \"Image_URL\": image_url})\n",
    "    \n",
    "# Printing the dictionary\n",
    "pprint.pprint(hemisphere_image_urls)"
   ]
  },
  {
   "cell_type": "code",
   "execution_count": null,
   "metadata": {},
   "outputs": [],
   "source": []
  }
 ],
 "metadata": {
  "kernelspec": {
   "display_name": "Python 3",
   "language": "python",
   "name": "python3"
  },
  "language_info": {
   "codemirror_mode": {
    "name": "ipython",
    "version": 3
   },
   "file_extension": ".py",
   "mimetype": "text/x-python",
   "name": "python",
   "nbconvert_exporter": "python",
   "pygments_lexer": "ipython3",
   "version": "3.6.4"
  },
  "varInspector": {
   "cols": {
    "lenName": 16,
    "lenType": 16,
    "lenVar": 40
   },
   "kernels_config": {
    "python": {
     "delete_cmd_postfix": "",
     "delete_cmd_prefix": "del ",
     "library": "var_list.py",
     "varRefreshCmd": "print(var_dic_list())"
    },
    "r": {
     "delete_cmd_postfix": ") ",
     "delete_cmd_prefix": "rm(",
     "library": "var_list.r",
     "varRefreshCmd": "cat(var_dic_list()) "
    }
   },
   "types_to_exclude": [
    "module",
    "function",
    "builtin_function_or_method",
    "instance",
    "_Feature"
   ],
   "window_display": false
  }
 },
 "nbformat": 4,
 "nbformat_minor": 2
}
